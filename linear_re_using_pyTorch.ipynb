{
  "nbformat": 4,
  "nbformat_minor": 0,
  "metadata": {
    "colab": {
      "provenance": []
    },
    "kernelspec": {
      "name": "python3",
      "display_name": "Python 3"
    },
    "language_info": {
      "name": "python"
    }
  },
  "cells": [
    {
      "cell_type": "code",
      "execution_count": null,
      "metadata": {
        "id": "DMkjccJa8J3l"
      },
      "outputs": [],
      "source": [
        "import torch\n",
        "import pandas as pd\n",
        "import numpy as np\n",
        "import matplotlib.pyplot as plt\n"
      ]
    },
    {
      "cell_type": "code",
      "source": [
        "#scalar\n",
        "scalar= torch.tensor(7)\n",
        "scalar"
      ],
      "metadata": {
        "colab": {
          "base_uri": "https://localhost:8080/"
        },
        "id": "Q6vliiJY9cP6",
        "outputId": "f048ab63-1739-4e2d-d6f1-57da3014981c"
      },
      "execution_count": null,
      "outputs": [
        {
          "output_type": "execute_result",
          "data": {
            "text/plain": [
              "tensor(7)"
            ]
          },
          "metadata": {},
          "execution_count": 2
        }
      ]
    },
    {
      "cell_type": "code",
      "source": [
        "scalar.item()"
      ],
      "metadata": {
        "colab": {
          "base_uri": "https://localhost:8080/"
        },
        "id": "Rdjz_gx3976e",
        "outputId": "6ccbaeb5-a659-479a-8809-f73d6d60e3f8"
      },
      "execution_count": null,
      "outputs": [
        {
          "output_type": "execute_result",
          "data": {
            "text/plain": [
              "7"
            ]
          },
          "metadata": {},
          "execution_count": 3
        }
      ]
    },
    {
      "cell_type": "code",
      "source": [
        "#vector\n",
        "vector=torch.tensor([7 , 7])\n",
        "vector"
      ],
      "metadata": {
        "colab": {
          "base_uri": "https://localhost:8080/"
        },
        "id": "e1gbuUya-JX7",
        "outputId": "836bef5f-5f3d-4139-b50a-aed2f4831a75"
      },
      "execution_count": null,
      "outputs": [
        {
          "output_type": "execute_result",
          "data": {
            "text/plain": [
              "tensor([7, 7])"
            ]
          },
          "metadata": {},
          "execution_count": 4
        }
      ]
    },
    {
      "cell_type": "code",
      "source": [
        "#matrix\n",
        "matrix=torch.tensor([[7 , 7] , [6, 6]])\n",
        "matrix"
      ],
      "metadata": {
        "colab": {
          "base_uri": "https://localhost:8080/"
        },
        "id": "29s_JrNk-hzE",
        "outputId": "1aaa0fed-dac3-46c3-c86e-d29f8f5ed906"
      },
      "execution_count": null,
      "outputs": [
        {
          "output_type": "execute_result",
          "data": {
            "text/plain": [
              "tensor([[7, 7],\n",
              "        [6, 6]])"
            ]
          },
          "metadata": {},
          "execution_count": 5
        }
      ]
    },
    {
      "cell_type": "code",
      "source": [
        "matrix.ndim"
      ],
      "metadata": {
        "colab": {
          "base_uri": "https://localhost:8080/"
        },
        "id": "THpXnYLG_ncM",
        "outputId": "4939cd86-31d9-423f-ee8c-b77c5469ba24"
      },
      "execution_count": null,
      "outputs": [
        {
          "output_type": "execute_result",
          "data": {
            "text/plain": [
              "2"
            ]
          },
          "metadata": {},
          "execution_count": 6
        }
      ]
    },
    {
      "cell_type": "code",
      "source": [
        "matrix.shape"
      ],
      "metadata": {
        "colab": {
          "base_uri": "https://localhost:8080/"
        },
        "id": "3BipS-Lw_vKH",
        "outputId": "8fa84e6b-b59c-4e0a-9a8c-d932709f9b6b"
      },
      "execution_count": null,
      "outputs": [
        {
          "output_type": "execute_result",
          "data": {
            "text/plain": [
              "torch.Size([2, 2])"
            ]
          },
          "metadata": {},
          "execution_count": 7
        }
      ]
    },
    {
      "cell_type": "code",
      "source": [
        "#tensor\n",
        "TENSOR=torch.tensor([[[3, 4, 5], [5, 6, 7], [1, 3, 5]]])\n",
        "TENSOR"
      ],
      "metadata": {
        "colab": {
          "base_uri": "https://localhost:8080/"
        },
        "id": "j-I7Q8MZADUf",
        "outputId": "999a1d8c-40bc-4ab0-dbc3-776ab73d697e"
      },
      "execution_count": null,
      "outputs": [
        {
          "output_type": "execute_result",
          "data": {
            "text/plain": [
              "tensor([[[3, 4, 5],\n",
              "         [5, 6, 7],\n",
              "         [1, 3, 5]]])"
            ]
          },
          "metadata": {},
          "execution_count": 8
        }
      ]
    },
    {
      "cell_type": "code",
      "source": [
        "TENSOR.ndim"
      ],
      "metadata": {
        "colab": {
          "base_uri": "https://localhost:8080/"
        },
        "id": "G5S1VQ6SBGFl",
        "outputId": "da0792a3-ce75-4bdf-a099-3ef7ba8e502b"
      },
      "execution_count": null,
      "outputs": [
        {
          "output_type": "execute_result",
          "data": {
            "text/plain": [
              "3"
            ]
          },
          "metadata": {},
          "execution_count": 9
        }
      ]
    },
    {
      "cell_type": "code",
      "source": [
        "TENSOR.shape"
      ],
      "metadata": {
        "colab": {
          "base_uri": "https://localhost:8080/"
        },
        "id": "t91WYDYJB-hZ",
        "outputId": "0db2acf9-bc47-4c71-c32b-ef6a405e5d3c"
      },
      "execution_count": null,
      "outputs": [
        {
          "output_type": "execute_result",
          "data": {
            "text/plain": [
              "torch.Size([1, 3, 3])"
            ]
          },
          "metadata": {},
          "execution_count": 10
        }
      ]
    },
    {
      "cell_type": "markdown",
      "source": [
        "#Random tensors"
      ],
      "metadata": {
        "id": "23y4OdWQCvXS"
      }
    },
    {
      "cell_type": "code",
      "source": [
        "random_tensor=torch.rand(3, 4)\n",
        "random_tensor"
      ],
      "metadata": {
        "colab": {
          "base_uri": "https://localhost:8080/"
        },
        "id": "CL05K6HdC9Hv",
        "outputId": "822a312b-19b5-4e6d-9848-2452c334df3e"
      },
      "execution_count": null,
      "outputs": [
        {
          "output_type": "execute_result",
          "data": {
            "text/plain": [
              "tensor([[0.7867, 0.4148, 0.8928, 0.2149],\n",
              "        [0.7739, 0.8837, 0.9142, 0.7699],\n",
              "        [0.5062, 0.3064, 0.8031, 0.1796]])"
            ]
          },
          "metadata": {},
          "execution_count": 11
        }
      ]
    },
    {
      "cell_type": "code",
      "source": [
        "random_tensor.ndim"
      ],
      "metadata": {
        "colab": {
          "base_uri": "https://localhost:8080/"
        },
        "id": "m-dzyAEwEHJc",
        "outputId": "8777e2bd-90f7-450a-964d-1e279392d027"
      },
      "execution_count": null,
      "outputs": [
        {
          "output_type": "execute_result",
          "data": {
            "text/plain": [
              "2"
            ]
          },
          "metadata": {},
          "execution_count": 12
        }
      ]
    },
    {
      "cell_type": "code",
      "source": [
        "random_tensor=torch.rand(2, 3, 4)\n",
        "random_tensor"
      ],
      "metadata": {
        "colab": {
          "base_uri": "https://localhost:8080/"
        },
        "id": "fiLEkJiiEUyy",
        "outputId": "2712cb94-5052-4de4-dafc-7f9a4a3bbd2e"
      },
      "execution_count": null,
      "outputs": [
        {
          "output_type": "execute_result",
          "data": {
            "text/plain": [
              "tensor([[[0.1528, 0.8652, 0.3880, 0.6381],\n",
              "         [0.7019, 0.4970, 0.6442, 0.7126],\n",
              "         [0.6224, 0.9566, 0.5733, 0.4271]],\n",
              "\n",
              "        [[0.2176, 0.7312, 0.9786, 0.2267],\n",
              "         [0.0662, 0.0819, 0.9134, 0.1818],\n",
              "         [0.8774, 0.6681, 0.6844, 0.1278]]])"
            ]
          },
          "metadata": {},
          "execution_count": 13
        }
      ]
    },
    {
      "cell_type": "code",
      "source": [
        "#create random tensor with similar shape to an image tensor\n",
        "random_img_size_tensor = torch.rand(size = (224, 224, 3)) # height, width, colour channel(red , blue , green)\n",
        "random_img_size_tensor"
      ],
      "metadata": {
        "colab": {
          "base_uri": "https://localhost:8080/"
        },
        "id": "AQEkm_6OEUvS",
        "outputId": "5a062299-f57b-443e-c043-15c674312a56"
      },
      "execution_count": null,
      "outputs": [
        {
          "output_type": "execute_result",
          "data": {
            "text/plain": [
              "tensor([[[0.9204, 0.6334, 0.3930],\n",
              "         [0.3884, 0.3092, 0.8057],\n",
              "         [0.1769, 0.9052, 0.9280],\n",
              "         ...,\n",
              "         [0.9198, 0.9656, 0.9811],\n",
              "         [0.2546, 0.5872, 0.0568],\n",
              "         [0.9683, 0.3953, 0.7135]],\n",
              "\n",
              "        [[0.8618, 0.9011, 0.9048],\n",
              "         [0.6473, 0.9203, 0.0843],\n",
              "         [0.6933, 0.0509, 0.0096],\n",
              "         ...,\n",
              "         [0.4673, 0.5860, 0.6379],\n",
              "         [0.1414, 0.7090, 0.9978],\n",
              "         [0.8292, 0.4450, 0.7660]],\n",
              "\n",
              "        [[0.4835, 0.4519, 0.5158],\n",
              "         [0.9806, 0.9912, 0.4660],\n",
              "         [0.6124, 0.2431, 0.5166],\n",
              "         ...,\n",
              "         [0.7294, 0.0670, 0.6817],\n",
              "         [0.1016, 0.9139, 0.5016],\n",
              "         [0.0952, 0.5267, 0.1576]],\n",
              "\n",
              "        ...,\n",
              "\n",
              "        [[0.8635, 0.7868, 0.4663],\n",
              "         [0.3196, 0.2928, 0.7388],\n",
              "         [0.2717, 0.4795, 0.0490],\n",
              "         ...,\n",
              "         [0.2053, 0.6238, 0.3693],\n",
              "         [0.9833, 0.2364, 0.8809],\n",
              "         [0.8107, 0.0828, 0.2717]],\n",
              "\n",
              "        [[0.6488, 0.9611, 0.0622],\n",
              "         [0.4687, 0.2827, 0.8340],\n",
              "         [0.7145, 0.4458, 0.2910],\n",
              "         ...,\n",
              "         [0.6323, 0.4691, 0.7354],\n",
              "         [0.8418, 0.6108, 0.4423],\n",
              "         [0.1886, 0.7662, 0.4863]],\n",
              "\n",
              "        [[0.7076, 0.4377, 0.9550],\n",
              "         [0.3522, 0.3951, 0.9648],\n",
              "         [0.7500, 0.4045, 0.5469],\n",
              "         ...,\n",
              "         [0.7732, 0.7089, 0.2596],\n",
              "         [0.0896, 0.9648, 0.6508],\n",
              "         [0.2046, 0.7413, 0.5476]]])"
            ]
          },
          "metadata": {},
          "execution_count": 14
        }
      ]
    },
    {
      "cell_type": "code",
      "source": [
        "# create  a tensor all zeros and ones ke liye bhi same code\n",
        "zeros = torch.zeros(size = (3 , 4))\n",
        "zeros"
      ],
      "metadata": {
        "colab": {
          "base_uri": "https://localhost:8080/"
        },
        "id": "eqlVY8m1EUtE",
        "outputId": "0dd877e6-7d35-4897-d04a-9026430acacd"
      },
      "execution_count": null,
      "outputs": [
        {
          "output_type": "execute_result",
          "data": {
            "text/plain": [
              "tensor([[0., 0., 0., 0.],\n",
              "        [0., 0., 0., 0.],\n",
              "        [0., 0., 0., 0.]])"
            ]
          },
          "metadata": {},
          "execution_count": 15
        }
      ]
    },
    {
      "cell_type": "markdown",
      "source": [
        "#CREATING A RANGE OF TENSORS AND TENSOR-LIKE"
      ],
      "metadata": {
        "id": "5afzxeQPIl0O"
      }
    },
    {
      "cell_type": "code",
      "source": [
        "# use torch.range()\n",
        "torch.arange(1 , 11)"
      ],
      "metadata": {
        "colab": {
          "base_uri": "https://localhost:8080/"
        },
        "id": "gV-5STzPEUqO",
        "outputId": "175ca1f5-e762-43bf-bebc-9491c4f4593b"
      },
      "execution_count": null,
      "outputs": [
        {
          "output_type": "execute_result",
          "data": {
            "text/plain": [
              "tensor([ 1,  2,  3,  4,  5,  6,  7,  8,  9, 10])"
            ]
          },
          "metadata": {},
          "execution_count": 16
        }
      ]
    },
    {
      "cell_type": "code",
      "source": [
        "torch.arange(start=0 , end=1000 , step=55)"
      ],
      "metadata": {
        "colab": {
          "base_uri": "https://localhost:8080/"
        },
        "id": "lM3tOrd2EUnc",
        "outputId": "5ac67029-7694-4288-a013-00b6e47e00bc"
      },
      "execution_count": null,
      "outputs": [
        {
          "output_type": "execute_result",
          "data": {
            "text/plain": [
              "tensor([  0,  55, 110, 165, 220, 275, 330, 385, 440, 495, 550, 605, 660, 715,\n",
              "        770, 825, 880, 935, 990])"
            ]
          },
          "metadata": {},
          "execution_count": 17
        }
      ]
    },
    {
      "cell_type": "markdown",
      "source": [
        "# Tensor datatype"
      ],
      "metadata": {
        "id": "fnze-mF-LEV-"
      }
    },
    {
      "cell_type": "code",
      "source": [
        "\"\"\"there are many type of datatypes of tensor\n",
        "    flot 32 tensor or flot_32_tensor\n",
        "    flot 16 tensor or flot_16_tensor\n",
        "    So we will convert flot_32_tensor to flot_16_tensor\n",
        "    dtype=None\n",
        "    device=None\n",
        "     requires_grad=None)\n",
        "    \"\"\""
      ],
      "metadata": {
        "id": "36f6RSLcEUkp",
        "colab": {
          "base_uri": "https://localhost:8080/",
          "height": 53
        },
        "outputId": "d561aa55-dc4f-47af-e599-64bb82e185e1"
      },
      "execution_count": null,
      "outputs": [
        {
          "output_type": "execute_result",
          "data": {
            "text/plain": [
              "'there are many type of datatypes of tensor\\n    flot 32 tensor or flot_32_tensor\\n    flot 16 tensor or flot_16_tensor\\n    So we will convert flot_32_tensor to flot_16_tensor\\n    dtype=None\\n    device=None\\n     requires_grad=None)\\n    '"
            ],
            "application/vnd.google.colaboratory.intrinsic+json": {
              "type": "string"
            }
          },
          "metadata": {},
          "execution_count": 18
        }
      ]
    },
    {
      "cell_type": "code",
      "source": [
        "flot_32_tensor = torch.tensor([6.0 , 7.0 , 9.0])\n",
        "flot_32_tensor"
      ],
      "metadata": {
        "colab": {
          "base_uri": "https://localhost:8080/"
        },
        "id": "EK2EqRD4EUgC",
        "outputId": "1c895d95-91ad-42c1-8a54-b92359b8568f"
      },
      "execution_count": null,
      "outputs": [
        {
          "output_type": "execute_result",
          "data": {
            "text/plain": [
              "tensor([6., 7., 9.])"
            ]
          },
          "metadata": {},
          "execution_count": 19
        }
      ]
    },
    {
      "cell_type": "code",
      "source": [
        "flot_16_tensor = flot_32_tensor.type(torch.float16)\n",
        "flot_16_tensor"
      ],
      "metadata": {
        "colab": {
          "base_uri": "https://localhost:8080/"
        },
        "id": "WtWz5_-fEUcf",
        "outputId": "610444bd-c366-4e36-a72d-ea2dc6408ca7"
      },
      "execution_count": null,
      "outputs": [
        {
          "output_type": "execute_result",
          "data": {
            "text/plain": [
              "tensor([6., 7., 9.], dtype=torch.float16)"
            ]
          },
          "metadata": {},
          "execution_count": 20
        }
      ]
    },
    {
      "cell_type": "markdown",
      "source": [
        "#Tensor attributes\n",
        "\n",
        "\n",
        "1.   object.dtype\n",
        "2.   object.device\n",
        "3.   object.shape\n",
        "\n",
        "\n",
        "\n"
      ],
      "metadata": {
        "id": "ZjpeN8O2Q-V6"
      }
    },
    {
      "cell_type": "code",
      "source": [
        "some_tensor = torch.rand(3 , 4)\n",
        "some_tensor"
      ],
      "metadata": {
        "colab": {
          "base_uri": "https://localhost:8080/"
        },
        "id": "n8iZ0hMxEUZR",
        "outputId": "5bda3083-b59b-4632-a01d-dfdbd06300c1"
      },
      "execution_count": null,
      "outputs": [
        {
          "output_type": "execute_result",
          "data": {
            "text/plain": [
              "tensor([[0.3207, 0.3418, 0.8841, 0.0251],\n",
              "        [0.9854, 0.1899, 0.9659, 0.8869],\n",
              "        [0.3043, 0.4857, 0.8431, 0.6232]])"
            ]
          },
          "metadata": {},
          "execution_count": 21
        }
      ]
    },
    {
      "cell_type": "code",
      "source": [
        "print(some_tensor)\n",
        "print(f\"datatype of tensor : {some_tensor.dtype}\")\n",
        "print(f\"shape of tensor : {some_tensor.shape}\")\n",
        "print(f\" device of tensor : {some_tensor.device}\")"
      ],
      "metadata": {
        "colab": {
          "base_uri": "https://localhost:8080/"
        },
        "id": "aWmu18roPo_J",
        "outputId": "5cfa7a30-1899-4da3-f1e5-44d484c1dd66"
      },
      "execution_count": null,
      "outputs": [
        {
          "output_type": "stream",
          "name": "stdout",
          "text": [
            "tensor([[0.3207, 0.3418, 0.8841, 0.0251],\n",
            "        [0.9854, 0.1899, 0.9659, 0.8869],\n",
            "        [0.3043, 0.4857, 0.8431, 0.6232]])\n",
            "datatype of tensor : torch.float32\n",
            "shape of tensor : torch.Size([3, 4])\n",
            " device of tensor : cpu\n"
          ]
        }
      ]
    },
    {
      "cell_type": "markdown",
      "source": [
        "# tensor operation\n",
        "1. add , sub , div , multi"
      ],
      "metadata": {
        "id": "lViMO_-ITgGK"
      }
    },
    {
      "cell_type": "code",
      "source": [
        "tensor = torch.tensor([3 , 4])\n",
        "tensor\n",
        "tensor + 10"
      ],
      "metadata": {
        "colab": {
          "base_uri": "https://localhost:8080/"
        },
        "id": "5NF4RkmvEUWi",
        "outputId": "82f747d1-1a7d-4530-8328-d2116f865451"
      },
      "execution_count": null,
      "outputs": [
        {
          "output_type": "execute_result",
          "data": {
            "text/plain": [
              "tensor([13, 14])"
            ]
          },
          "metadata": {},
          "execution_count": 23
        }
      ]
    },
    {
      "cell_type": "code",
      "source": [
        "tensor = torch.tensor([3 , 4])\n",
        "tensor*10"
      ],
      "metadata": {
        "colab": {
          "base_uri": "https://localhost:8080/"
        },
        "id": "XZR_yT-yEUTE",
        "outputId": "76f034ad-65ca-4027-b737-9fc498a02f6f"
      },
      "execution_count": null,
      "outputs": [
        {
          "output_type": "execute_result",
          "data": {
            "text/plain": [
              "tensor([30, 40])"
            ]
          },
          "metadata": {},
          "execution_count": 24
        }
      ]
    },
    {
      "cell_type": "code",
      "source": [
        "torch.mul(tensor,10)"
      ],
      "metadata": {
        "colab": {
          "base_uri": "https://localhost:8080/"
        },
        "id": "WGycqys7T-17",
        "outputId": "124aab28-5a48-479f-e03a-92b0f651391e"
      },
      "execution_count": null,
      "outputs": [
        {
          "output_type": "execute_result",
          "data": {
            "text/plain": [
              "tensor([30, 40])"
            ]
          },
          "metadata": {},
          "execution_count": 25
        }
      ]
    },
    {
      "cell_type": "markdown",
      "source": [
        "#Matrix multiplication"
      ],
      "metadata": {
        "id": "3O_b5iVsUxSv"
      }
    },
    {
      "cell_type": "code",
      "source": [
        "tensor= torch.tensor([2 , 4, 5 ])\n",
        "tensor"
      ],
      "metadata": {
        "colab": {
          "base_uri": "https://localhost:8080/"
        },
        "id": "Doim2bPNUNyP",
        "outputId": "90a4f93d-75d6-458b-8044-477fffe3cf6f"
      },
      "execution_count": null,
      "outputs": [
        {
          "output_type": "execute_result",
          "data": {
            "text/plain": [
              "tensor([2, 4, 5])"
            ]
          },
          "metadata": {},
          "execution_count": 26
        }
      ]
    },
    {
      "cell_type": "code",
      "source": [
        "%%time\n",
        "total = 0\n",
        "for i in range(len(tensor)):\n",
        "  total+= tensor[i] * tensor[i]\n",
        "print(total)\n",
        "print(len(tensor))\n",
        "print(tensor[0])"
      ],
      "metadata": {
        "colab": {
          "base_uri": "https://localhost:8080/"
        },
        "id": "xmemZInHWbid",
        "outputId": "2640b123-e8b8-4d11-b4fd-02b6d39bb579"
      },
      "execution_count": null,
      "outputs": [
        {
          "output_type": "stream",
          "name": "stdout",
          "text": [
            "tensor(45)\n",
            "3\n",
            "tensor(2)\n",
            "CPU times: user 2.95 ms, sys: 346 µs, total: 3.29 ms\n",
            "Wall time: 8.16 ms\n"
          ]
        }
      ]
    },
    {
      "cell_type": "code",
      "source": [
        "%%time\n",
        "torch.matmul(tensor , tensor)"
      ],
      "metadata": {
        "colab": {
          "base_uri": "https://localhost:8080/"
        },
        "id": "aFTR-NEkXH8L",
        "outputId": "67a788d9-3577-4a2c-e59d-fac660b5f6fb"
      },
      "execution_count": null,
      "outputs": [
        {
          "output_type": "stream",
          "name": "stdout",
          "text": [
            "CPU times: user 492 µs, sys: 0 ns, total: 492 µs\n",
            "Wall time: 7.3 ms\n"
          ]
        },
        {
          "output_type": "execute_result",
          "data": {
            "text/plain": [
              "tensor(45)"
            ]
          },
          "metadata": {},
          "execution_count": 28
        }
      ]
    },
    {
      "cell_type": "code",
      "source": [
        "matrix_1 = torch.rand(3,10)\n",
        "matrix_2 = torch.rand(10,3)"
      ],
      "metadata": {
        "id": "XiPf6fx7X6iP"
      },
      "execution_count": null,
      "outputs": []
    },
    {
      "cell_type": "code",
      "source": [
        "matrix_1"
      ],
      "metadata": {
        "colab": {
          "base_uri": "https://localhost:8080/"
        },
        "id": "EA3ul1m8Y1VK",
        "outputId": "6d85ac1e-883f-4a76-effd-9c25af835af8"
      },
      "execution_count": null,
      "outputs": [
        {
          "output_type": "execute_result",
          "data": {
            "text/plain": [
              "tensor([[0.0216, 0.8401, 0.2186, 0.3753, 0.5876, 0.9326, 0.9288, 0.8621, 0.0997,\n",
              "         0.9222],\n",
              "        [0.2842, 0.3454, 0.7053, 0.6322, 0.4472, 0.8106, 0.8968, 0.6684, 0.4579,\n",
              "         0.3772],\n",
              "        [0.4165, 0.4167, 0.9133, 0.8703, 0.8677, 0.2425, 0.2339, 0.7918, 0.4163,\n",
              "         0.2064]])"
            ]
          },
          "metadata": {},
          "execution_count": 30
        }
      ]
    },
    {
      "cell_type": "code",
      "source": [
        "matrix_2"
      ],
      "metadata": {
        "colab": {
          "base_uri": "https://localhost:8080/"
        },
        "id": "WApCMGyiY7Vj",
        "outputId": "70042a9b-b3ca-4b72-918d-760dc75ac952"
      },
      "execution_count": null,
      "outputs": [
        {
          "output_type": "execute_result",
          "data": {
            "text/plain": [
              "tensor([[0.3393, 0.2054, 0.5365],\n",
              "        [0.8504, 0.1732, 0.9049],\n",
              "        [0.9990, 0.8987, 0.1299],\n",
              "        [0.9951, 0.3664, 0.7095],\n",
              "        [0.8188, 0.7928, 0.0631],\n",
              "        [0.0202, 0.8012, 0.0949],\n",
              "        [0.2895, 0.1254, 0.2388],\n",
              "        [0.9785, 0.1184, 0.9193],\n",
              "        [0.6402, 0.9551, 0.4849],\n",
              "        [0.9187, 0.8555, 0.1860]])"
            ]
          },
          "metadata": {},
          "execution_count": 31
        }
      ]
    },
    {
      "cell_type": "code",
      "source": [
        "new_matrix = torch.matmul(matrix_1 , matrix_2)\n",
        "new_matrix"
      ],
      "metadata": {
        "colab": {
          "base_uri": "https://localhost:8080/"
        },
        "id": "2_2rXg8mZCX0",
        "outputId": "bc88e98c-3736-47e7-f94f-8cf001a52cc0"
      },
      "execution_count": null,
      "outputs": [
        {
          "output_type": "execute_result",
          "data": {
            "text/plain": [
              "tensor([[3.8372, 2.7999, 2.4263],\n",
              "        [3.6597, 2.9394, 2.2310],\n",
              "        [4.2881, 2.8769, 2.4384]])"
            ]
          },
          "metadata": {},
          "execution_count": 32
        }
      ]
    },
    {
      "cell_type": "code",
      "source": [
        "new_matrix.shape\n",
        "new_matrix.ndim"
      ],
      "metadata": {
        "colab": {
          "base_uri": "https://localhost:8080/"
        },
        "id": "pqo9oKFyZQc1",
        "outputId": "787d691f-abab-4a6d-f869-118170e59169"
      },
      "execution_count": null,
      "outputs": [
        {
          "output_type": "execute_result",
          "data": {
            "text/plain": [
              "2"
            ]
          },
          "metadata": {},
          "execution_count": 33
        }
      ]
    },
    {
      "cell_type": "markdown",
      "source": [
        "#data(preparing and loading"
      ],
      "metadata": {
        "id": "4m6hLUitJUTV"
      }
    },
    {
      "cell_type": "code",
      "source": [
        "# create known parameters y=a(bias)+xb(weight)\n",
        "weight=0.7\n",
        "bias=0.3\n",
        "\n",
        "start=0\n",
        "step = 0.02\n",
        "end=1\n",
        "X= torch.arange(start, end , step).unsqueeze(dim=1)\n",
        "y = weight*X + bias\n",
        "X[:10] , y[:10] , len(X) , len(y)"
      ],
      "metadata": {
        "id": "qhX1FKZtZnTo",
        "colab": {
          "base_uri": "https://localhost:8080/"
        },
        "outputId": "1e595874-4069-407f-99eb-7d352577e67b"
      },
      "execution_count": null,
      "outputs": [
        {
          "output_type": "execute_result",
          "data": {
            "text/plain": [
              "(tensor([[0.0000],\n",
              "         [0.0200],\n",
              "         [0.0400],\n",
              "         [0.0600],\n",
              "         [0.0800],\n",
              "         [0.1000],\n",
              "         [0.1200],\n",
              "         [0.1400],\n",
              "         [0.1600],\n",
              "         [0.1800]]),\n",
              " tensor([[0.3000],\n",
              "         [0.3140],\n",
              "         [0.3280],\n",
              "         [0.3420],\n",
              "         [0.3560],\n",
              "         [0.3700],\n",
              "         [0.3840],\n",
              "         [0.3980],\n",
              "         [0.4120],\n",
              "         [0.4260]]),\n",
              " 50,\n",
              " 50)"
            ]
          },
          "metadata": {},
          "execution_count": 34
        }
      ]
    },
    {
      "cell_type": "markdown",
      "source": [
        "#linear regression"
      ],
      "metadata": {
        "id": "WDWRwWAQr0Zx"
      }
    },
    {
      "cell_type": "markdown",
      "source": [
        "#splitting data into training and test set"
      ],
      "metadata": {
        "id": "GZBrHiIJMQiy"
      }
    },
    {
      "cell_type": "code",
      "source": [
        "train_split = int(0.8 * len(X))\n",
        "train_split\n",
        "X_train , y_train = X[:train_split] , y[:train_split]\n",
        "X_test , y_test = X[train_split:] , y[train_split:]\n",
        "len(X_train) , len(y_train) , len(X_test) , len(y_test)"
      ],
      "metadata": {
        "colab": {
          "base_uri": "https://localhost:8080/"
        },
        "id": "V3aQq2xOLtih",
        "outputId": "49966b7d-24b3-4ca0-8679-c81f1d7774e6"
      },
      "execution_count": null,
      "outputs": [
        {
          "output_type": "execute_result",
          "data": {
            "text/plain": [
              "(40, 40, 10, 10)"
            ]
          },
          "metadata": {},
          "execution_count": 35
        }
      ]
    },
    {
      "cell_type": "code",
      "source": [
        "def plot_prediction(train_data = X_train , train_labels = y_train ,\n",
        "                    test_data = X_test , test_labels = y_test ,\n",
        "                    prediction = None ):\n",
        "  plt.scatter(train_data , train_labels , c=\"b\" , s=4, label = \"training data\")\n",
        "  plt.scatter(test_data , test_labels , c= \"g\", s=4 , label = \"testing data\")\n",
        "  if prediction is not None :\n",
        "    plt.scatter(test_data , prediction, c=\"r\" , s=4 , label = \"prediction\")\n",
        "plt.legend(prop={\"size\" : 14 });\n"
      ],
      "metadata": {
        "id": "oAJPQjTZQjYc"
      },
      "execution_count": null,
      "outputs": []
    },
    {
      "cell_type": "code",
      "source": [
        "plot_prediction()"
      ],
      "metadata": {
        "colab": {
          "base_uri": "https://localhost:8080/",
          "height": 430
        },
        "id": "zkswEtL6UljY",
        "outputId": "dee831e6-1446-4559-d1b3-fbe2c22c0625"
      },
      "execution_count": null,
      "outputs": [
        {
          "output_type": "display_data",
          "data": {
            "text/plain": [
              "<Figure size 640x480 with 1 Axes>"
            ],
            "image/png": "[encoded data removed]"
          },
          "metadata": {}
        }
      ]
    },
    {
      "cell_type": "code",
      "source": [
        "from torch import nn # nn.module have all bulding block of nn and it is sub class\n",
        "class linearRegressionModel(nn.Module):\n",
        "  def __init__(self):\n",
        "    super().__init__()\n",
        "    self.weight=nn.Parameter(torch.randn(1,\n",
        "                                         requires_grad=True ,\n",
        "                                         dtype=torch.float\n",
        "                                         ))\n",
        "    self.bias= nn.Parameter(torch.randn(1,\n",
        "                                         requires_grad=True ,\n",
        "                                         dtype=torch.float\n",
        "                                         ))\n",
        "  def forward(self , X: torch.tensor):\n",
        "    return self.weight *X +self.bias\n"
      ],
      "metadata": {
        "id": "GAczGImLVLG5"
      },
      "execution_count": null,
      "outputs": []
    },
    {
      "cell_type": "markdown",
      "source": [
        "#WHAT OUR MODEL DOES:\n",
        "1. start with random values (weight and bias)\n",
        "2. adjust the random values to better represent or get closer to ideal value\n"
      ],
      "metadata": {
        "id": "AbVCAqUgb3ns"
      }
    },
    {
      "cell_type": "code",
      "source": [
        "torch.manual_seed(42)\n",
        "model_0=linearRegressionModel()\n",
        "list(model_0.parameters())"
      ],
      "metadata": {
        "colab": {
          "base_uri": "https://localhost:8080/"
        },
        "id": "ynUNHEtccmN8",
        "outputId": "cccb9618-cb07-4349-b89f-6c3705fa8917"
      },
      "execution_count": null,
      "outputs": [
        {
          "output_type": "execute_result",
          "data": {
            "text/plain": [
              "[Parameter containing:\n",
              " tensor([0.3367], requires_grad=True),\n",
              " Parameter containing:\n",
              " tensor([0.1288], requires_grad=True)]"
            ]
          },
          "metadata": {},
          "execution_count": 39
        }
      ]
    },
    {
      "cell_type": "code",
      "source": [
        "model_0.state_dict()"
      ],
      "metadata": {
        "colab": {
          "base_uri": "https://localhost:8080/"
        },
        "id": "7QxgY41Kkflx",
        "outputId": "a3fbf36f-62f5-4109-a34d-fd078f0a85c1"
      },
      "execution_count": null,
      "outputs": [
        {
          "output_type": "execute_result",
          "data": {
            "text/plain": [
              "OrderedDict([('weight', tensor([0.3367])), ('bias', tensor([0.1288]))])"
            ]
          },
          "metadata": {},
          "execution_count": 40
        }
      ]
    },
    {
      "cell_type": "code",
      "source": [
        "with torch.inference_mode():\n",
        "  y_pred=model_0(X_test)\n",
        "\n",
        "y_pred\n"
      ],
      "metadata": {
        "colab": {
          "base_uri": "https://localhost:8080/"
        },
        "id": "pk9gmPRCpy8C",
        "outputId": "1f667fa1-3d25-45fe-b8dc-3f837dffb85e"
      },
      "execution_count": null,
      "outputs": [
        {
          "output_type": "execute_result",
          "data": {
            "text/plain": [
              "tensor([[0.8189],\n",
              "        [0.8308],\n",
              "        [0.8426],\n",
              "        [0.8544],\n",
              "        [0.8663],\n",
              "        [0.8781],\n",
              "        [0.8900],\n",
              "        [0.9018],\n",
              "        [0.9136],\n",
              "        [0.9255]])"
            ]
          },
          "metadata": {},
          "execution_count": 78
        }
      ]
    },
    {
      "cell_type": "code",
      "source": [
        "y_test"
      ],
      "metadata": {
        "colab": {
          "base_uri": "https://localhost:8080/"
        },
        "id": "oju6MuhryZnB",
        "outputId": "41795ea0-7a56-43a6-aa1b-d86c9b9b0477"
      },
      "execution_count": null,
      "outputs": [
        {
          "output_type": "execute_result",
          "data": {
            "text/plain": [
              "tensor([[0.8600],\n",
              "        [0.8740],\n",
              "        [0.8880],\n",
              "        [0.9020],\n",
              "        [0.9160],\n",
              "        [0.9300],\n",
              "        [0.9440],\n",
              "        [0.9580],\n",
              "        [0.9720],\n",
              "        [0.9860]])"
            ]
          },
          "metadata": {},
          "execution_count": 79
        }
      ]
    },
    {
      "cell_type": "code",
      "source": [
        "plot_prediction(prediction=y_pred)\n"
      ],
      "metadata": {
        "colab": {
          "base_uri": "https://localhost:8080/",
          "height": 430
        },
        "id": "0ISq_GNrzMNO",
        "outputId": "9b5d9472-c8c2-415b-ac46-eb4c845f4479"
      },
      "execution_count": null,
      "outputs": [
        {
          "output_type": "display_data",
          "data": {
            "text/plain": [
              "<Figure size 640x480 with 1 Axes>"
            ],
            "image/png": "[encoded data removed]"
          },
          "metadata": {}
        }
      ]
    },
    {
      "cell_type": "code",
      "source": [
        "loss_fn= nn.L1Loss()\n",
        "optimizer= torch.optim.SGD(params=model_0.parameters(),\n",
        "                           lr=0.015)\n",
        "\n",
        "\n"
      ],
      "metadata": {
        "id": "CpDFOtQJ1WrG"
      },
      "execution_count": null,
      "outputs": []
    },
    {
      "cell_type": "code",
      "source": [
        "model_0.eval()\n",
        "with torch.inference_mode():\n",
        "  list(model_0.parameters())"
      ],
      "metadata": {
        "id": "aScbdNqUknlm"
      },
      "execution_count": null,
      "outputs": []
    },
    {
      "cell_type": "code",
      "source": [
        "epochs=100\n",
        "for epoch in range(epochs):\n",
        "  model_0.train()\n",
        "  #forward pass\n",
        "  y_pred=model_0(X_train)\n",
        "  # calculate loss\n",
        "  loss= loss_fn(y_pred , y_train)\n",
        "  print(f\"loss : {loss}\")\n",
        "  #optimizer zero grad\n",
        "  optimizer.zero_grad()\n",
        "  #perform backpropogation\n",
        "  loss.backward()\n",
        "  #set optimizer\n",
        "  optimizer.step()\n",
        "  #testing\n",
        "  model_0.eval()\n",
        "  with torch.inference_mode():\n",
        "    test_pred = model_0(X_test)\n"
      ],
      "metadata": {
        "id": "UVBlKFmajVdB",
        "colab": {
          "base_uri": "https://localhost:8080/"
        },
        "outputId": "5a2a83cb-1892-464a-90cf-2a9fa356e216"
      },
      "execution_count": null,
      "outputs": [
        {
          "output_type": "stream",
          "name": "stdout",
          "text": [
            "loss : 0.014692991971969604\n",
            "loss : 0.0025885067880153656\n",
            "loss : 0.014692991971969604\n",
            "loss : 0.0025885067880153656\n",
            "loss : 0.014692991971969604\n",
            "loss : 0.0025885067880153656\n",
            "loss : 0.014692991971969604\n",
            "loss : 0.0025885067880153656\n",
            "loss : 0.014692991971969604\n",
            "loss : 0.0025885067880153656\n",
            "loss : 0.014692991971969604\n",
            "loss : 0.0025885067880153656\n",
            "loss : 0.014692991971969604\n",
            "loss : 0.0025885067880153656\n",
            "loss : 0.014692991971969604\n",
            "loss : 0.0025885067880153656\n",
            "loss : 0.014692991971969604\n",
            "loss : 0.0025885067880153656\n",
            "loss : 0.014692991971969604\n",
            "loss : 0.0025885067880153656\n",
            "loss : 0.014692991971969604\n",
            "loss : 0.0025885067880153656\n",
            "loss : 0.014692991971969604\n",
            "loss : 0.0025885067880153656\n",
            "loss : 0.014692991971969604\n",
            "loss : 0.0025885067880153656\n",
            "loss : 0.014692991971969604\n",
            "loss : 0.0025885067880153656\n",
            "loss : 0.014692991971969604\n",
            "loss : 0.0025885067880153656\n",
            "loss : 0.014692991971969604\n",
            "loss : 0.0025885067880153656\n",
            "loss : 0.014692991971969604\n",
            "loss : 0.0025885067880153656\n",
            "loss : 0.014692991971969604\n",
            "loss : 0.0025885067880153656\n",
            "loss : 0.014692991971969604\n",
            "loss : 0.0025885067880153656\n",
            "loss : 0.014692991971969604\n",
            "loss : 0.0025885067880153656\n",
            "loss : 0.014692991971969604\n",
            "loss : 0.0025885067880153656\n",
            "loss : 0.014692991971969604\n",
            "loss : 0.0025885067880153656\n",
            "loss : 0.014692991971969604\n",
            "loss : 0.0025885067880153656\n",
            "loss : 0.014692991971969604\n",
            "loss : 0.0025885067880153656\n",
            "loss : 0.014692991971969604\n",
            "loss : 0.0025885067880153656\n",
            "loss : 0.014692991971969604\n",
            "loss : 0.0025885067880153656\n",
            "loss : 0.014692991971969604\n",
            "loss : 0.0025885067880153656\n",
            "loss : 0.014692991971969604\n",
            "loss : 0.0025885067880153656\n",
            "loss : 0.014692991971969604\n",
            "loss : 0.0025885067880153656\n",
            "loss : 0.014692991971969604\n",
            "loss : 0.0025885067880153656\n",
            "loss : 0.014692991971969604\n",
            "loss : 0.0025885067880153656\n",
            "loss : 0.014692991971969604\n",
            "loss : 0.0025885067880153656\n",
            "loss : 0.014692991971969604\n",
            "loss : 0.0025885067880153656\n",
            "loss : 0.014692991971969604\n",
            "loss : 0.0025885067880153656\n",
            "loss : 0.014692991971969604\n",
            "loss : 0.0025885067880153656\n",
            "loss : 0.014692991971969604\n",
            "loss : 0.0025885067880153656\n",
            "loss : 0.014692991971969604\n",
            "loss : 0.0025885067880153656\n",
            "loss : 0.014692991971969604\n",
            "loss : 0.0025885067880153656\n",
            "loss : 0.014692991971969604\n",
            "loss : 0.0025885067880153656\n",
            "loss : 0.014692991971969604\n",
            "loss : 0.0025885067880153656\n",
            "loss : 0.014692991971969604\n",
            "loss : 0.0025885067880153656\n",
            "loss : 0.014692991971969604\n",
            "loss : 0.0025885067880153656\n",
            "loss : 0.014692991971969604\n",
            "loss : 0.0025885067880153656\n",
            "loss : 0.014692991971969604\n",
            "loss : 0.0025885067880153656\n",
            "loss : 0.014692991971969604\n",
            "loss : 0.0025885067880153656\n",
            "loss : 0.014692991971969604\n",
            "loss : 0.0025885067880153656\n",
            "loss : 0.014692991971969604\n",
            "loss : 0.0025885067880153656\n",
            "loss : 0.014692991971969604\n",
            "loss : 0.0025885067880153656\n",
            "loss : 0.014692991971969604\n",
            "loss : 0.0025885067880153656\n",
            "loss : 0.014692991971969604\n",
            "loss : 0.0025885067880153656\n"
          ]
        }
      ]
    },
    {
      "cell_type": "code",
      "source": [
        "model_0.state_dict()"
      ],
      "metadata": {
        "colab": {
          "base_uri": "https://localhost:8080/"
        },
        "id": "jGtfJEEki_Dj",
        "outputId": "780807d9-2393-4aa7-f9d7-2442ba1b35c3"
      },
      "execution_count": null,
      "outputs": [
        {
          "output_type": "execute_result",
          "data": {
            "text/plain": [
              "OrderedDict([('weight', tensor([0.7010])), ('bias', tensor([0.3143]))])"
            ]
          },
          "metadata": {},
          "execution_count": 118
        }
      ]
    },
    {
      "cell_type": "code",
      "source": [
        "with torch.inference_mode():\n",
        "  y_pred = model_0(X_test)\n",
        "\n",
        "y_pred"
      ],
      "metadata": {
        "colab": {
          "base_uri": "https://localhost:8080/"
        },
        "id": "a_APgwEmqkpd",
        "outputId": "11b0ad9b-4dc0-4922-923d-bb769ad3c1f1"
      },
      "execution_count": null,
      "outputs": [
        {
          "output_type": "execute_result",
          "data": {
            "text/plain": [
              "tensor([[0.8751],\n",
              "        [0.8891],\n",
              "        [0.9031],\n",
              "        [0.9172],\n",
              "        [0.9312],\n",
              "        [0.9452],\n",
              "        [0.9592],\n",
              "        [0.9732],\n",
              "        [0.9873],\n",
              "        [1.0013]])"
            ]
          },
          "metadata": {},
          "execution_count": 119
        }
      ]
    },
    {
      "cell_type": "code",
      "source": [
        "plot_prediction(prediction=y_pred)"
      ],
      "metadata": {
        "colab": {
          "base_uri": "https://localhost:8080/",
          "height": 430
        },
        "id": "ivseBprJrvSF",
        "outputId": "f1d77385-855c-4f03-ae80-e533be8d6641"
      },
      "execution_count": null,
      "outputs": [
        {
          "output_type": "display_data",
          "data": {
            "text/plain": [
              "<Figure size 640x480 with 1 Axes>"
            ],
            "image/png": "[encoded data removed]"
          },
          "metadata": {}
        }
      ]
    },
    {
      "cell_type": "code",
      "source": [],
      "metadata": {
        "id": "UK5tZDovy0ZO"
      },
      "execution_count": null,
      "outputs": []
    }
  ]
}